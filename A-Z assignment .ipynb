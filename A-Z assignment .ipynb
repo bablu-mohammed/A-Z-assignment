{
 "cells": [
  {
   "cell_type": "code",
   "execution_count": 29,
   "id": "ad450ca6",
   "metadata": {},
   "outputs": [
    {
     "name": "stdout",
     "output_type": "stream",
     "text": [
      "* * * * * *\n",
      "*         *\n",
      "* * * * * *\n",
      "*         *\n",
      "*         *\n"
     ]
    }
   ],
   "source": [
    "a=1\n",
    "while a<=5:\n",
    "    if a==1:\n",
    "        print(\"* * * * * *\")\n",
    "    elif a==2:\n",
    "        print(\"*         *\")\n",
    "    elif a==3:\n",
    "        print(\"* * * * * *\")\n",
    "    elif a==4:\n",
    "        print(\"*         *\")\n",
    "    elif a==5:\n",
    "        print(\"*         *\")\n",
    "    a=a+1"
   ]
  },
  {
   "cell_type": "code",
   "execution_count": 129,
   "id": "6b23ea19",
   "metadata": {},
   "outputs": [
    {
     "name": "stdout",
     "output_type": "stream",
     "text": [
      "* * * * *\n",
      "*         *\n",
      "* * * * *\n",
      "*         *\n",
      "* * * * *\n"
     ]
    }
   ],
   "source": [
    "a=1\n",
    "while a<=5:\n",
    "    if a==1:\n",
    "        print(\"* * * * *\")\n",
    "    elif a==2:\n",
    "        print(\"*         *\")\n",
    "    elif a==3:\n",
    "        print(\"* * * * *\")\n",
    "    elif a==4:\n",
    "        print(\"*         *\")\n",
    "    elif a==5:\n",
    "        print(\"* * * * *\")\n",
    "    a=a+1"
   ]
  },
  {
   "cell_type": "code",
   "execution_count": 30,
   "id": "c2ae7301",
   "metadata": {},
   "outputs": [
    {
     "name": "stdout",
     "output_type": "stream",
     "text": [
      "* * * * *\n",
      "*   \n",
      "* \n",
      "*   \n",
      "* * * * *\n"
     ]
    }
   ],
   "source": [
    "a=1\n",
    "while a<=5:\n",
    "    if a==1:\n",
    "        print(\"* * * * *\")\n",
    "    elif a==2:\n",
    "        print(\"*   \")\n",
    "    elif a==3:\n",
    "        print(\"* \")\n",
    "    elif a==4:\n",
    "        print(\"*   \")\n",
    "    elif a==5:\n",
    "        print(\"* * * * *\")\n",
    "    a=a+1"
   ]
  },
  {
   "cell_type": "code",
   "execution_count": 127,
   "id": "46966686",
   "metadata": {},
   "outputs": [
    {
     "name": "stdout",
     "output_type": "stream",
     "text": [
      "* * * * *\n",
      "*         *\n",
      "*          *\n",
      "*         *\n",
      "* * * * *\n"
     ]
    }
   ],
   "source": [
    "a=1\n",
    "while a<=5:\n",
    "    if a==1:\n",
    "        print(\"* * * * *\")\n",
    "    elif a==2:\n",
    "        print(\"*         *\")\n",
    "    elif a==3:\n",
    "        print(\"*          *\")\n",
    "    elif a==4:\n",
    "        print(\"*         *\")\n",
    "    elif a==5:\n",
    "        print(\"* * * * *\")\n",
    "    a=a+1"
   ]
  },
  {
   "cell_type": "code",
   "execution_count": 126,
   "id": "04bbe9bb",
   "metadata": {},
   "outputs": [
    {
     "name": "stdout",
     "output_type": "stream",
     "text": [
      "* * * * *\n",
      "*\n",
      "* * * * *\n",
      "*\n",
      "* * * * *\n"
     ]
    }
   ],
   "source": [
    "a=1\n",
    "while a<=5:\n",
    "    if a==1:\n",
    "        print(\"* * * * *\")\n",
    "    elif a==2:\n",
    "        print(\"*\")\n",
    "    elif a==3:\n",
    "        print(\"* * * * *\")\n",
    "    elif a==4:\n",
    "        print(\"*\")\n",
    "    elif a==5:\n",
    "        print(\"* * * * *\")\n",
    "    a=a+1"
   ]
  },
  {
   "cell_type": "code",
   "execution_count": 125,
   "id": "b3d55959",
   "metadata": {},
   "outputs": [
    {
     "name": "stdout",
     "output_type": "stream",
     "text": [
      "* * * * *\n",
      "*\n",
      "* * * * *\n",
      "*\n",
      "*\n"
     ]
    }
   ],
   "source": [
    "a=1\n",
    "while a<=5:\n",
    "    if a==1:\n",
    "        print(\"* * * * *\")\n",
    "    elif a==2:\n",
    "        print(\"*\")\n",
    "    elif a==3:\n",
    "        print(\"* * * * *\")\n",
    "    elif a==4:\n",
    "        print(\"*\")\n",
    "    elif a==5:\n",
    "        print(\"*\")\n",
    "    a=a+1"
   ]
  },
  {
   "cell_type": "code",
   "execution_count": 124,
   "id": "4dff8205",
   "metadata": {},
   "outputs": [
    {
     "name": "stdout",
     "output_type": "stream",
     "text": [
      "* * * * * *\n",
      "*\n",
      "*   * * * *\n",
      "*   *     *\n",
      "* * *     *\n"
     ]
    }
   ],
   "source": [
    "a=1\n",
    "while a<=5:\n",
    "    if a==1:\n",
    "        print(\"* * * * * *\")\n",
    "    elif a==2:\n",
    "        print(\"*\")\n",
    "    elif a==3:\n",
    "        print(\"*   * * * *\")\n",
    "    elif a==4:\n",
    "        print(\"*   *     *\")\n",
    "    elif a==5:\n",
    "        print(\"* * *     *\")\n",
    "    a=a+1\n",
    "    \n",
    "   "
   ]
  },
  {
   "cell_type": "code",
   "execution_count": 10,
   "id": "d73b90b0",
   "metadata": {},
   "outputs": [
    {
     "name": "stdout",
     "output_type": "stream",
     "text": [
      "*       *\n",
      "*       *\n",
      "* * * * *\n",
      "*       *\n",
      "*       *\n"
     ]
    }
   ],
   "source": [
    "a=1\n",
    "while a<=5:\n",
    "    if a==1:\n",
    "        print(\"*       *\")\n",
    "    elif a==2:\n",
    "        print(\"*       *\")\n",
    "    elif a==3:\n",
    "        print(\"* * * * *\")\n",
    "    elif a==4:\n",
    "        print(\"*       *\")\n",
    "    elif a==5:\n",
    "        print(\"*       *\")\n",
    "    a=a+1"
   ]
  },
  {
   "cell_type": "code",
   "execution_count": 12,
   "id": "b7c5ff53",
   "metadata": {},
   "outputs": [
    {
     "name": "stdout",
     "output_type": "stream",
     "text": [
      "* * * * * \n",
      "    *      \n",
      "    *\n",
      "    *\n",
      "* * * * * \n"
     ]
    }
   ],
   "source": [
    "a=1\n",
    "while a<=5:\n",
    "    if a==1:\n",
    "        print(\"* * * * * \")\n",
    "    elif a==2:\n",
    "        print(\"    *      \")\n",
    "    elif a==3:\n",
    "        print(\"    *\")\n",
    "    elif a==4:\n",
    "        print(\"    *\")\n",
    "    elif a==5:\n",
    "        print(\"* * * * * \")\n",
    "    a=a+1"
   ]
  },
  {
   "cell_type": "code",
   "execution_count": 13,
   "id": "fdab6806",
   "metadata": {},
   "outputs": [
    {
     "name": "stdout",
     "output_type": "stream",
     "text": [
      "* * * * * \n",
      "    *      \n",
      "    *\n",
      "*   *\n",
      "* * * \n"
     ]
    }
   ],
   "source": [
    "a=1\n",
    "while a<=5:\n",
    "    if a==1:\n",
    "        print(\"* * * * * \")\n",
    "    elif a==2:\n",
    "        print(\"    *      \")\n",
    "    elif a==3:\n",
    "        print(\"    *\")\n",
    "    elif a==4:\n",
    "        print(\"*   *\")\n",
    "    elif a==5:\n",
    "        print(\"* * * \")\n",
    "    a=a+1"
   ]
  },
  {
   "cell_type": "code",
   "execution_count": 17,
   "id": "832ae496",
   "metadata": {},
   "outputs": [
    {
     "name": "stdout",
     "output_type": "stream",
     "text": [
      "*        * \n",
      "*    *     \n",
      "* *   \n",
      "*    *\n",
      "*        * \n"
     ]
    }
   ],
   "source": [
    "a=1\n",
    "while a<=5:\n",
    "    if a==1:\n",
    "        print(\"*        * \")\n",
    "    elif a==2:\n",
    "        print(\"*    *     \")\n",
    "    elif a==3:\n",
    "        print(\"* *   \")\n",
    "    elif a==4:\n",
    "        print(\"*    *\")\n",
    "    elif a==5:\n",
    "        print(\"*        * \")\n",
    "    a=a+1"
   ]
  },
  {
   "cell_type": "code",
   "execution_count": 18,
   "id": "83a7f388",
   "metadata": {},
   "outputs": [
    {
     "name": "stdout",
     "output_type": "stream",
     "text": [
      "* \n",
      "* \n",
      "*\n",
      "* \n",
      "* * * * * \n"
     ]
    }
   ],
   "source": [
    "a=1\n",
    "while a<=5:\n",
    "    if a==1:\n",
    "        print(\"* \")\n",
    "    elif a==2:\n",
    "        print(\"* \")\n",
    "    elif a==3:\n",
    "        print(\"*\")\n",
    "    elif a==4:\n",
    "        print(\"* \")\n",
    "    elif a==5:\n",
    "        print(\"* * * * * \")\n",
    "    a=a+1"
   ]
  },
  {
   "cell_type": "code",
   "execution_count": 25,
   "id": "f9b3005c",
   "metadata": {},
   "outputs": [
    {
     "name": "stdout",
     "output_type": "stream",
     "text": [
      "*         *\n",
      "*  *    * *\n",
      "*    *    *\n",
      "*         *\n",
      "*         *\n"
     ]
    }
   ],
   "source": [
    "a=1\n",
    "while a<=5:\n",
    "    if a==1:\n",
    "        print(\"*         *\")\n",
    "    elif a==2:\n",
    "        print(\"*  *    * *\")\n",
    "    elif a==3:\n",
    "        print(\"*    *    *\")\n",
    "    elif a==4:\n",
    "        print(\"*         *\")\n",
    "    elif a==5:\n",
    "        print(\"*         *\")\n",
    "    a=a+1"
   ]
  },
  {
   "cell_type": "code",
   "execution_count": 26,
   "id": "1eeac7e4",
   "metadata": {},
   "outputs": [
    {
     "name": "stdout",
     "output_type": "stream",
     "text": [
      "*         *\n",
      "*  *      *\n",
      "*    *    *\n",
      "*       * *\n",
      "*         *\n"
     ]
    }
   ],
   "source": [
    "a=1\n",
    "while a<=5:\n",
    "    if a==1:\n",
    "        print(\"*         *\")\n",
    "    elif a==2:\n",
    "        print(\"*  *      *\")\n",
    "    elif a==3:\n",
    "        print(\"*    *    *\")\n",
    "    elif a==4:\n",
    "        print(\"*       * *\")\n",
    "    elif a==5:\n",
    "        print(\"*         *\")\n",
    "    a=a+1"
   ]
  },
  {
   "cell_type": "code",
   "execution_count": 28,
   "id": "9e99834e",
   "metadata": {},
   "outputs": [
    {
     "name": "stdout",
     "output_type": "stream",
     "text": [
      "* * * * * *\n",
      "*  *      *\n",
      "*    *    *\n",
      "*       * *\n",
      "* * * * * *\n"
     ]
    }
   ],
   "source": [
    "a=1\n",
    "while a<=5:\n",
    "    if a==1:\n",
    "        print(\"* * * * * *\")\n",
    "    elif a==2:\n",
    "        print(\"*  *      *\")\n",
    "    elif a==3:\n",
    "        print(\"*    *    *\")\n",
    "    elif a==4:\n",
    "        print(\"*       * *\")\n",
    "    elif a==5:\n",
    "        print(\"* * * * * *\")\n",
    "    a=a+1"
   ]
  },
  {
   "cell_type": "code",
   "execution_count": 32,
   "id": "c7f338e8",
   "metadata": {},
   "outputs": [
    {
     "name": "stdout",
     "output_type": "stream",
     "text": [
      "* * * * * *\n",
      "*         *\n",
      "* * * * * *\n",
      "*\n",
      "*\n"
     ]
    }
   ],
   "source": [
    "a=1\n",
    "while a<=5:\n",
    "    if a==1:\n",
    "        print(\"* * * * * *\")\n",
    "    elif a==2:\n",
    "        print(\"*         *\")\n",
    "    elif a==3:\n",
    "        print(\"* * * * * *\")\n",
    "    elif a==4:\n",
    "        print(\"*\")\n",
    "    elif a==5:\n",
    "        print(\"*\")\n",
    "    a=a+1"
   ]
  },
  {
   "cell_type": "code",
   "execution_count": 37,
   "id": "70e9e8db",
   "metadata": {},
   "outputs": [
    {
     "name": "stdout",
     "output_type": "stream",
     "text": [
      "* * * * * *\n",
      "*   *     *\n",
      "*      *  *\n",
      "* * * * * *\n",
      "             *\n"
     ]
    }
   ],
   "source": [
    "a=1\n",
    "while a<=5:\n",
    "    if a==1:\n",
    "        print(\"* * * * * *\")\n",
    "    elif a==2:\n",
    "        print(\"*   *     *\")\n",
    "    elif a==3:\n",
    "        print(\"*      *  *\")\n",
    "    elif a==4:\n",
    "        print(\"* * * * * *\")\n",
    "    elif a==5:\n",
    "        print(\"             *\")\n",
    "    a=a+1"
   ]
  },
  {
   "cell_type": "code",
   "execution_count": 51,
   "id": "f46ad892",
   "metadata": {},
   "outputs": [
    {
     "name": "stdout",
     "output_type": "stream",
     "text": [
      "* * * * * *\n",
      "*         *\n",
      "* * * * *  \n",
      "*         *\n",
      "*           *\n"
     ]
    }
   ],
   "source": [
    "a=1\n",
    "while a<=5:\n",
    "    if a==1:\n",
    "        print(\"* * * * * *\")\n",
    "    elif a==2:\n",
    "        print(\"*         *\")\n",
    "    elif a==3:\n",
    "        print(\"* * * * *  \")\n",
    "    elif a==4:\n",
    "        print(\"*         *\")\n",
    "    elif a==5:\n",
    "        print(\"*           *\")\n",
    "    a=a+1"
   ]
  },
  {
   "cell_type": "code",
   "execution_count": 55,
   "id": "d997ffca",
   "metadata": {},
   "outputs": [
    {
     "name": "stdout",
     "output_type": "stream",
     "text": [
      "* * * * * *\n",
      "*         \n",
      "* * * * * * \n",
      "          *\n",
      "* * * * * *\n"
     ]
    }
   ],
   "source": [
    "a=1\n",
    "while a<=5:\n",
    "    if a==1:\n",
    "        print(\"* * * * * *\")\n",
    "    elif a==2:\n",
    "        print(\"*         \")\n",
    "    elif a==3:\n",
    "        print(\"* * * * * *\")\n",
    "    elif a==4:\n",
    "        print(\"          *\")\n",
    "    elif a==5:\n",
    "        print(\"* * * * * *\")\n",
    "    a=a+1"
   ]
  },
  {
   "cell_type": "code",
   "execution_count": 57,
   "id": "e5cc6215",
   "metadata": {},
   "outputs": [
    {
     "name": "stdout",
     "output_type": "stream",
     "text": [
      "* * * * * *\n",
      "     *\n",
      "     *\n",
      "     *\n",
      "     *\n"
     ]
    }
   ],
   "source": [
    "a=1\n",
    "while a<=5:\n",
    "    if a==1:\n",
    "        print(\"* * * * * *\")\n",
    "    elif a==2:\n",
    "        print(\"     *\")\n",
    "    elif a==3:\n",
    "        print(\"     *\")\n",
    "    elif a==4:\n",
    "        print(\"     *\")\n",
    "    elif a==5:\n",
    "        print(\"     *\")\n",
    "    a=a+1"
   ]
  },
  {
   "cell_type": "code",
   "execution_count": 59,
   "id": "c46d0904",
   "metadata": {},
   "outputs": [
    {
     "name": "stdout",
     "output_type": "stream",
     "text": [
      "*         *\n",
      "*         *\n",
      "*         *\n",
      "*         *\n",
      "* * * * * *\n"
     ]
    }
   ],
   "source": [
    "a=1\n",
    "while a<=5:\n",
    "    if a==1:\n",
    "        print(\"*         *\")\n",
    "    elif a==2:\n",
    "        print(\"*         *\")\n",
    "    elif a==3:\n",
    "        print(\"*         *\")\n",
    "    elif a==4:\n",
    "        print(\"*         *\")\n",
    "    elif a==5:\n",
    "        print(\"* * * * * *\")\n",
    "    a=a+1"
   ]
  },
  {
   "cell_type": "code",
   "execution_count": 119,
   "id": "f60f78d1",
   "metadata": {},
   "outputs": [
    {
     "name": "stdout",
     "output_type": "stream",
     "text": [
      "*         *\n",
      " *       *\n",
      "  *     *\n",
      "   *   *\n",
      "     *\n"
     ]
    }
   ],
   "source": [
    "a=1\n",
    "while a<=5:\n",
    "    if a==1:\n",
    "        print(\"*         *\")\n",
    "    elif a==2:\n",
    "        print(\" *       *\")\n",
    "    elif a==3:\n",
    "        print(\"  *     *\")\n",
    "    elif a==4:\n",
    "        print(\"   *   *\") \n",
    "    elif a==5:\n",
    "        print(\"     *\")\n",
    "    a=a+1"
   ]
  },
  {
   "cell_type": "code",
   "execution_count": 106,
   "id": "b745a387",
   "metadata": {},
   "outputs": [
    {
     "name": "stdout",
     "output_type": "stream",
     "text": [
      "*                *\n",
      " *              *\n",
      "  *      *     *\n",
      "    *  *   *  *\n",
      "     *       *\n"
     ]
    }
   ],
   "source": [
    "a=1\n",
    "while a<=5:\n",
    "    if a==1:\n",
    "        print(\"*                *\") \n",
    "    elif a==2:\n",
    "        print(\" *              *\")\n",
    "    elif a==3:\n",
    "        print(\"  *      *     *\")\n",
    "    elif a==4:\n",
    "        print(\"    *  *   *  *\")\n",
    "    elif a==5:\n",
    "        print(\"     *       *\")\n",
    "    a=a+1"
   ]
  },
  {
   "cell_type": "code",
   "execution_count": 88,
   "id": "0c7e38a4",
   "metadata": {},
   "outputs": [
    {
     "name": "stdout",
     "output_type": "stream",
     "text": [
      "*             *\n",
      "   *       *\n",
      "       *\n",
      "   *       *\n",
      "*             *\n"
     ]
    }
   ],
   "source": [
    "a=1\n",
    "while a<=5:\n",
    "    if a==1:\n",
    "        print(\"*             *\")\n",
    "    elif a==2:\n",
    "        print(\"   *       *\")\n",
    "    elif a==3:\n",
    "        print(\"       *\")\n",
    "    elif a==4:\n",
    "        print(\"   *       *\")\n",
    "    elif a==5:\n",
    "        print(\"*             *\")\n",
    "    a=a+1"
   ]
  },
  {
   "cell_type": "code",
   "execution_count": 89,
   "id": "4835b519",
   "metadata": {},
   "outputs": [
    {
     "name": "stdout",
     "output_type": "stream",
     "text": [
      "*             *\n",
      "   *       *\n",
      "       *\n",
      "       *\n",
      "       *\n"
     ]
    }
   ],
   "source": [
    "a=1\n",
    "while a<=5:\n",
    "    if a==1:\n",
    "        print(\"*             *\")\n",
    "    elif a==2:\n",
    "        print(\"   *       *\")\n",
    "    elif a==3:\n",
    "        print(\"       *\")\n",
    "    elif a==4:\n",
    "        print(\"       *\")\n",
    "    elif a==5:\n",
    "        print(\"       *\")\n",
    "    a=a+1"
   ]
  },
  {
   "cell_type": "code",
   "execution_count": 101,
   "id": "2a713492",
   "metadata": {},
   "outputs": [
    {
     "name": "stdout",
     "output_type": "stream",
     "text": [
      "* * * * * *\n",
      "        *\n",
      "     *\n",
      "  *\n",
      "* * * * * *\n"
     ]
    }
   ],
   "source": [
    "a=1\n",
    "while a<=5:\n",
    "    if a==1:\n",
    "        print(\"* * * * * *\")\n",
    "    elif a==2:\n",
    "        print(\"        *\")\n",
    "    elif a==3:\n",
    "        print(\"     *\")\n",
    "    elif a==4:\n",
    "        print(\"  *\")\n",
    "    elif a==5:\n",
    "        print(\"* * * * * *\")\n",
    "    a=a+1"
   ]
  },
  {
   "cell_type": "code",
   "execution_count": null,
   "id": "fe3c86c4",
   "metadata": {},
   "outputs": [],
   "source": []
  }
 ],
 "metadata": {
  "kernelspec": {
   "display_name": "Python 3 (ipykernel)",
   "language": "python",
   "name": "python3"
  },
  "language_info": {
   "codemirror_mode": {
    "name": "ipython",
    "version": 3
   },
   "file_extension": ".py",
   "mimetype": "text/x-python",
   "name": "python",
   "nbconvert_exporter": "python",
   "pygments_lexer": "ipython3",
   "version": "3.9.13"
  }
 },
 "nbformat": 4,
 "nbformat_minor": 5
}
